{
 "cells": [
  {
   "cell_type": "code",
   "execution_count": 1,
   "metadata": {},
   "outputs": [],
   "source": [
    "# import packages\n",
    "import pandas as pd\n",
    "import matplotlib.pyplot as plt\n",
    "import seaborn as sns\n",
    "import numpy as np\n",
    "from scipy.stats import norm\n",
    "from sklearn.preprocessing import StandardScaler\n",
    "from scipy import stats\n",
    "import warnings\n",
    "warnings.filterwarnings('ignore')\n",
    "%matplotlib inline\n",
    "from sklearn.model_selection import train_test_split # Import train_test_split function\n",
    "from sklearn import metrics #Import scikit-learn metrics module for accuracy calculation"
   ]
  },
  {
   "cell_type": "code",
   "execution_count": 2,
   "metadata": {},
   "outputs": [],
   "source": [
    "# import wave 19 (post election) panel data\n",
    "df_18 = pd.read_spss('./data/wave18.sav')\n",
    "df_19 = pd.read_spss('./data/wave19.sav')\n",
    "df_backup18 = df_18.copy()\n",
    "df_backup19 = df_19.copy()"
   ]
  },
  {
   "cell_type": "code",
   "execution_count": 3,
   "metadata": {},
   "outputs": [],
   "source": [
    "#reset df\n",
    "df_18 = df_backup18.copy()\n",
    "df_19 = df_backup19.copy()"
   ]
  },
  {
   "cell_type": "markdown",
   "metadata": {},
   "source": [
    "### Target variable cleaning"
   ]
  },
  {
   "cell_type": "code",
   "execution_count": 6,
   "metadata": {},
   "outputs": [],
   "source": [
    "#drop rows of participants who did not vote for one of the major parties\n",
    "for df in [df_18, df_19]:\n",
    "    df.drop(df[df['generalElectionVote'] == 'An independent candidate'].index, axis=0, inplace = True)\n",
    "    df.drop(df[df['generalElectionVote'] == 'Other'].index, axis=0, inplace = True)\n",
    "    df.drop(df[df['generalElectionVote'] == \"Don't know\"].index, axis=0, inplace = True)\n",
    "    df['generalElectionVote'] = df['generalElectionVote'].cat.remove_unused_categories()"
   ]
  },
  {
   "cell_type": "code",
   "execution_count": 7,
   "metadata": {},
   "outputs": [],
   "source": [
    "#drop rows of participants who did not know if they voted\n",
    "for df in [df_18]:\n",
    "    #replace nans with DNV label\n",
    "    df['generalElectionVote'].replace({'I would/did not vote': 'DNV'}, inplace=True)\n",
    "#     df['generalElectionVote'] = df['generalElectionVote'].cat.add_categories(\"DNV\")\n",
    "    df['generalElectionVote'].fillna('DNV', inplace=True)\n",
    "    df.rename(columns={'generalElectionVote': 'predictVote'}, inplace=True)\n",
    "for df in [df_19]:\n",
    "    df.drop(df[df['p_turnout_2019'] == \"Don't know\"].index, axis=0, inplace = True)\n",
    "    df.drop(df[df['p_turnout_2019'] == \"nan\"].index, axis=0, inplace = True)\n",
    "    df['p_turnout_2019'] = df['p_turnout_2019'].cat.remove_unused_categories()\n",
    "    #replace nans with DNV label\n",
    "    df['generalElectionVote'] = df['generalElectionVote'].cat.add_categories(\"DNV\")\n",
    "    df['generalElectionVote'].fillna('DNV', inplace=True)\n",
    "    df.rename(columns={'generalElectionVote': 'actualVote'}, inplace=True)"
   ]
  },
  {
   "cell_type": "code",
   "execution_count": 8,
   "metadata": {},
   "outputs": [],
   "source": [
    "df_18 = df_18.filter(['id', 'predictVote'])\n",
    "df_19 = df_19.filter(['id', 'actualVote'])"
   ]
  },
  {
   "cell_type": "code",
   "execution_count": 9,
   "metadata": {},
   "outputs": [
    {
     "data": {
      "text/html": [
       "<div>\n",
       "<style scoped>\n",
       "    .dataframe tbody tr th:only-of-type {\n",
       "        vertical-align: middle;\n",
       "    }\n",
       "\n",
       "    .dataframe tbody tr th {\n",
       "        vertical-align: top;\n",
       "    }\n",
       "\n",
       "    .dataframe thead th {\n",
       "        text-align: right;\n",
       "    }\n",
       "</style>\n",
       "<table border=\"1\" class=\"dataframe\">\n",
       "  <thead>\n",
       "    <tr style=\"text-align: right;\">\n",
       "      <th></th>\n",
       "      <th>id</th>\n",
       "      <th>predictVote</th>\n",
       "      <th>actualVote</th>\n",
       "    </tr>\n",
       "  </thead>\n",
       "  <tbody>\n",
       "    <tr>\n",
       "      <th>0</th>\n",
       "      <td>29164.0</td>\n",
       "      <td>DNV</td>\n",
       "      <td>DNV</td>\n",
       "    </tr>\n",
       "    <tr>\n",
       "      <th>1</th>\n",
       "      <td>68705.0</td>\n",
       "      <td>DNV</td>\n",
       "      <td>DNV</td>\n",
       "    </tr>\n",
       "    <tr>\n",
       "      <th>2</th>\n",
       "      <td>70863.0</td>\n",
       "      <td>Conservative</td>\n",
       "      <td>Conservative</td>\n",
       "    </tr>\n",
       "    <tr>\n",
       "      <th>3</th>\n",
       "      <td>52982.0</td>\n",
       "      <td>Conservative</td>\n",
       "      <td>Conservative</td>\n",
       "    </tr>\n",
       "    <tr>\n",
       "      <th>4</th>\n",
       "      <td>30819.0</td>\n",
       "      <td>Conservative</td>\n",
       "      <td>Conservative</td>\n",
       "    </tr>\n",
       "  </tbody>\n",
       "</table>\n",
       "</div>"
      ],
      "text/plain": [
       "        id   predictVote    actualVote\n",
       "0  29164.0           DNV           DNV\n",
       "1  68705.0           DNV           DNV\n",
       "2  70863.0  Conservative  Conservative\n",
       "3  52982.0  Conservative  Conservative\n",
       "4  30819.0  Conservative  Conservative"
      ]
     },
     "execution_count": 9,
     "metadata": {},
     "output_type": "execute_result"
    }
   ],
   "source": [
    "# merge pre-election and post-election survey\n",
    "df = pd.merge(df_18, df_19, on='id')\n",
    "df.head()"
   ]
  },
  {
   "cell_type": "code",
   "execution_count": 10,
   "metadata": {},
   "outputs": [
    {
     "name": "stdout",
     "output_type": "stream",
     "text": [
      "Accuracy: 85.08%\n"
     ]
    }
   ],
   "source": [
    "from sklearn.metrics import accuracy_score\n",
    "actual = df['actualVote'].to_numpy()\n",
    "predict = df['predictVote'].to_numpy()\n",
    "accuracy = accuracy_score(actual, predict)\n",
    "print(\"Accuracy: %.2f%%\" % (accuracy * 100.0))"
   ]
  },
  {
   "cell_type": "code",
   "execution_count": 11,
   "metadata": {},
   "outputs": [
    {
     "data": {
      "text/plain": [
       "array([[9142,   71,  119,  161,    7,   23,  426,    4,   28],\n",
       "       [ 106, 5291,  525,  122,   14,  136,   45,   18,    7],\n",
       "       [ 107,  132, 2335,   37,    6,   41,    3,    1,    0],\n",
       "       [ 312,  279,  142, 1145,   24,   53,  101,    3,   18],\n",
       "       [   4,   32,   16,   20,  842,    9,    4,    0,    0],\n",
       "       [  31,   47,   63,   21,    1,  415,    9,    0,    3],\n",
       "       [  65,    8,    3,    9,    1,    3,  481,    1,    7],\n",
       "       [   5,    7,    9,    0,    0,    4,    1,   94,    0],\n",
       "       [   2,    0,    0,    2,    0,    1,    6,    0,    8]],\n",
       "      dtype=int64)"
      ]
     },
     "execution_count": 11,
     "metadata": {},
     "output_type": "execute_result"
    }
   ],
   "source": [
    "from sklearn import metrics\n",
    "labels = ['Conservative', 'Labour', 'Liberal Democrat', 'DNV', 'Scottish National Party (SNP)', 'Green Party', 'Brexit Party', 'Plaid Cymru', 'United Kingdom Independence Party (UKIP)']\n",
    "cm = metrics.confusion_matrix(actual, predict, labels)\n",
    "cm"
   ]
  },
  {
   "cell_type": "code",
   "execution_count": 12,
   "metadata": {},
   "outputs": [
    {
     "data": {
      "text/plain": [
       "Conservative                                0.429882\n",
       "Labour                                      0.269791\n",
       "Liberal Democrat                            0.114652\n",
       "DNV                                         0.089456\n",
       "Scottish National Party (SNP)               0.039926\n",
       "Green Party                                 0.025411\n",
       "Brexit Party                                0.024894\n",
       "Plaid Cymru                                 0.005168\n",
       "United Kingdom Independence Party (UKIP)    0.000818\n",
       "Name: actualVote, dtype: float64"
      ]
     },
     "execution_count": 12,
     "metadata": {},
     "output_type": "execute_result"
    }
   ],
   "source": [
    "df['actualVote'].value_counts(normalize=True)"
   ]
  },
  {
   "cell_type": "code",
   "execution_count": 13,
   "metadata": {
    "scrolled": true
   },
   "outputs": [
    {
     "name": "stdout",
     "output_type": "stream",
     "text": [
      "Voted for this party despite saying they would vote for another:\n",
      "Con: 0.24213564213564215\n",
      "Lab: 0.2808080808080808\n",
      "Lib: 0.09437229437229437\n",
      "DNV: 0.268975468975469\n",
      "SNP: 0.024531024531024532\n",
      "Green: 0.050505050505050504\n",
      "Brexit: 0.027994227994227995\n",
      "Plaid: 0.007503607503607504\n",
      "Ukip: 0.0031746031746031746\n"
     ]
    }
   ],
   "source": [
    "count = 0\n",
    "con = 0\n",
    "lab = 0\n",
    "lib = 0\n",
    "dnv = 0\n",
    "snp = 0\n",
    "green = 0\n",
    "brexit = 0\n",
    "plaid = 0\n",
    "ukip = 0\n",
    "\n",
    "for i in range(len(predict)):\n",
    "    if predict[i] != actual[i]:\n",
    "        if actual[i] == 'Conservative':\n",
    "            con += 1\n",
    "            count += 1\n",
    "        if actual[i] == 'Labour':\n",
    "            lab += 1\n",
    "            count += 1\n",
    "        if actual[i] == 'DNV':\n",
    "            dnv += 1\n",
    "            count += 1\n",
    "        if actual[i] == 'Liberal Democrat':\n",
    "            lib += 1\n",
    "            count += 1\n",
    "        if actual[i] == 'Scottish National Party (SNP)':\n",
    "            snp += 1\n",
    "            count += 1\n",
    "        if actual[i] == 'Green Party':\n",
    "            green += 1\n",
    "            count += 1\n",
    "        if actual[i] == 'Brexit Party':\n",
    "            brexit += 1\n",
    "            count += 1\n",
    "        if actual[i] == 'Plaid Cymru':\n",
    "            plaid += 1\n",
    "            count += 1\n",
    "        if actual[i] == 'United Kingdom Independence Party (UKIP)':\n",
    "            ukip += 1\n",
    "            count += 1\n",
    "\n",
    "print('Voted for this party despite saying they would vote for another:')\n",
    "print('Con:', con/count)\n",
    "print('Lab:', lab/count)\n",
    "print('Lib:', lib/count)\n",
    "print('DNV:', dnv/count)\n",
    "print('SNP:', snp/count)\n",
    "print('Green:', green/count)\n",
    "print('Brexit:', brexit/count)\n",
    "print('Plaid:', plaid/count)\n",
    "print('Ukip:', ukip/count)"
   ]
  },
  {
   "cell_type": "code",
   "execution_count": 14,
   "metadata": {},
   "outputs": [
    {
     "data": {
      "image/png": "[encoded data removed]",
      "text/plain": [
       "<Figure size 432x288 with 2 Axes>"
      ]
     },
     "metadata": {
      "needs_background": "light"
     },
     "output_type": "display_data"
    }
   ],
   "source": [
    "fig = plt.figure()\n",
    "ax = fig.add_subplot(111)\n",
    "cax = ax.matshow(cm)\n",
    "plt.title('Confusion matrix of the classifier')\n",
    "fig.colorbar(cax)\n",
    "ax.set_xticklabels([''] + labels)\n",
    "ax.set_yticklabels([''] + labels)\n",
    "plt.xlabel('Predicted')\n",
    "plt.ylabel('True')\n",
    "plt.show()"
   ]
  },
  {
   "cell_type": "code",
   "execution_count": null,
   "metadata": {},
   "outputs": [],
   "source": []
  }
 ],
 "metadata": {
  "kernelspec": {
   "display_name": "Python 3",
   "language": "python",
   "name": "python3"
  },
  "language_info": {
   "codemirror_mode": {
    "name": "ipython",
    "version": 3
   },
   "file_extension": ".py",
   "mimetype": "text/x-python",
   "name": "python",
   "nbconvert_exporter": "python",
   "pygments_lexer": "ipython3",
   "version": "3.7.6"
  }
 },
 "nbformat": 4,
 "nbformat_minor": 4
}
